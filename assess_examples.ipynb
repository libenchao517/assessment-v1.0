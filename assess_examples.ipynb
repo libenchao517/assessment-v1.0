{
 "cells": [
  {
   "cell_type": "code",
   "execution_count": 1,
   "metadata": {
    "collapsed": true
   },
   "outputs": [
    {
     "name": "stderr",
     "output_type": "stream",
     "text": [
      "C:\\Users\\11393\\.conda\\envs\\reumap\\lib\\site-packages\\sklearn\\cluster\\_kmeans.py:1412: FutureWarning: The default value of `n_init` will change from 10 to 'auto' in 1.4. Set the value of `n_init` explicitly to suppress the warning\n",
      "  super()._check_params_vs_input(X, default_n_init=10)\n"
     ]
    }
   ],
   "source": [
    "# 加载数据\n",
    "from sklearn.datasets import load_digits\n",
    "from sklearn.decomposition import PCA\n",
    "from sklearn.cluster import KMeans\n",
    "from sklearn.model_selection import train_test_split\n",
    "data, target = load_digits(return_X_y=True)\n",
    "data_train, data_test, target_train, target_test = train_test_split(data, target, train_size=0.5)\n",
    "model = PCA(n_components=2)\n",
    "model.fit(data_train)\n",
    "embedding = model.transform(data)\n",
    "embedding_train = model.transform(data_train)\n",
    "embedding_test = model.transform(data_test)\n",
    "KM = KMeans(n_clusters=10).fit(data)\n",
    "target_pred = KM.labels_\n",
    "name_class = [\"Experiment\", 1, \"PCA\", \"Digit\", \"test\"]\n",
    "name_cluster = [\"Experiment\", 1, \"KMeans\", \"Digit\", \"test\"]"
   ]
  },
  {
   "cell_type": "code",
   "execution_count": 2,
   "outputs": [
    {
     "name": "stdout",
     "output_type": "stream",
     "text": [
      "Method       Datasets     Part         KNN                                       \n",
      "PCA          Digit        test         0.9871942893\n",
      "Method       Datasets     Part         KNN                                       \n",
      "PCA          Digit        test         0.9833147942\n"
     ]
    }
   ],
   "source": [
    "# 测试KNN分类器\n",
    "from Assess import K_Nearest_Neighbors\n",
    "KNN = K_Nearest_Neighbors()\n",
    "KNN.KNN_predict_odds(data, target, name_class)\n",
    "KNN.KNN_predict_odds_splited(data_train, data_test, target_train, target_test, name_class)"
   ],
   "metadata": {
    "collapsed": false
   }
  },
  {
   "cell_type": "code",
   "execution_count": 3,
   "outputs": [
    {
     "name": "stdout",
     "output_type": "stream",
     "text": [
      "Method       Datasets     Part         SVM                                       \n",
      "PCA          Digit        test         0.9877529485\n",
      "Method       Datasets     Part         SVM                                       \n",
      "PCA          Digit        test         0.9855394883\n"
     ]
    }
   ],
   "source": [
    "# 测试SVM分类器\n",
    "from Assess import Support_Vector_Machine\n",
    "SVM = Support_Vector_Machine()\n",
    "SVM.SVM_predict_odds(data, target, name_class)\n",
    "SVM.SVM_predict_odds_splited(data_train, data_test, target_train, target_test, name_class)"
   ],
   "metadata": {
    "collapsed": false
   }
  },
  {
   "cell_type": "code",
   "execution_count": 4,
   "outputs": [
    {
     "name": "stdout",
     "output_type": "stream",
     "text": [
      "Method       Datasets     Part         ARI                                       \n",
      "KMeans       Digit        test         0.6645986647\n"
     ]
    }
   ],
   "source": [
    "# 测试Adjusted Rand Score\n",
    "from Assess import Adjusted_Rand_Score\n",
    "ARI = Adjusted_Rand_Score()\n",
    "ARI.adjusted_rand_score_(target, target_pred, name_cluster)"
   ],
   "metadata": {
    "collapsed": false
   }
  },
  {
   "cell_type": "code",
   "execution_count": 5,
   "outputs": [
    {
     "name": "stdout",
     "output_type": "stream",
     "text": [
      "Method       Datasets     Part         AMI                                       \n",
      "KMeans       Digit        test         0.7352812917\n"
     ]
    }
   ],
   "source": [
    "# 测试Ajusted Mutual Info Score\n",
    "from Assess import Ajusted_Mutual_Info_Score\n",
    "AMI = Ajusted_Mutual_Info_Score()\n",
    "AMI.adjusted_mutual_info_score_(target, target_pred, name_cluster)"
   ],
   "metadata": {
    "collapsed": false
   }
  },
  {
   "cell_type": "code",
   "execution_count": 6,
   "outputs": [
    {
     "name": "stdout",
     "output_type": "stream",
     "text": [
      "Method       Datasets     Part         NMI                                       \n",
      "KMeans       Digit        test         0.7379191885\n"
     ]
    }
   ],
   "source": [
    "# 测试Normalized Mutual Info Score\n",
    "from Assess import Normalized_Mutual_Info_Score\n",
    "NMI = Normalized_Mutual_Info_Score()\n",
    "NMI.normalized_mutual_info_score_(target, target_pred, name_cluster)"
   ],
   "metadata": {
    "collapsed": false
   }
  },
  {
   "cell_type": "code",
   "execution_count": 7,
   "outputs": [
    {
     "name": "stdout",
     "output_type": "stream",
     "text": [
      "Method       Datasets     Part         HMS                                       \n",
      "KMeans       Digit        test         0.7340427523\n"
     ]
    }
   ],
   "source": [
    "# 测试Homogeneity Score\n",
    "from Assess import Homogeneity_Score\n",
    "HMI = Homogeneity_Score()\n",
    "HMI.homogeneity_score_(target, target_pred, name_cluster)"
   ],
   "metadata": {
    "collapsed": false
   }
  },
  {
   "cell_type": "code",
   "execution_count": 8,
   "outputs": [
    {
     "name": "stdout",
     "output_type": "stream",
     "text": [
      "Method       Datasets     Part         CMS                                       \n",
      "KMeans       Digit        test         0.7418367845\n"
     ]
    }
   ],
   "source": [
    "# 测试Completeness Score\n",
    "from Assess import Completeness_Score\n",
    "CMI = Completeness_Score()\n",
    "CMI.completeness_score_(target, target_pred, name_cluster)"
   ],
   "metadata": {
    "collapsed": false
   }
  },
  {
   "cell_type": "code",
   "execution_count": 9,
   "outputs": [
    {
     "name": "stdout",
     "output_type": "stream",
     "text": [
      "Method       Datasets     Part         VMS                                       \n",
      "KMeans       Digit        test         0.7379191885\n"
     ]
    }
   ],
   "source": [
    "# 测试V Measure Score\n",
    "from Assess import V_Measure_Score\n",
    "VMI = V_Measure_Score()\n",
    "VMI.v_measure_score_(target, target_pred, name_cluster)"
   ],
   "metadata": {
    "collapsed": false
   }
  },
  {
   "cell_type": "code",
   "execution_count": 10,
   "outputs": [
    {
     "name": "stdout",
     "output_type": "stream",
     "text": [
      "Method       Datasets     Part         FMI                                       \n",
      "KMeans       Digit        test         0.6988866433\n"
     ]
    }
   ],
   "source": [
    "# 测试Fowlkes Mallows Score\n",
    "from Assess import Fowlkes_Mallows_Score\n",
    "FMI = Fowlkes_Mallows_Score()\n",
    "FMI.fowlkes_mallows_score_(target, target_pred, name_cluster)"
   ],
   "metadata": {
    "collapsed": false
   }
  },
  {
   "cell_type": "code",
   "execution_count": 11,
   "outputs": [
    {
     "name": "stdout",
     "output_type": "stream",
     "text": [
      "Method       Datasets     Part         SIL                                       \n",
      "KMeans       Digit        test         0.1629432052\n"
     ]
    }
   ],
   "source": [
    "# 测试轮廓系数\n",
    "from Assess import Silhouette_Score\n",
    "SIL = Silhouette_Score()\n",
    "SIL.silhouette_score_(data, target, name_cluster)"
   ],
   "metadata": {
    "collapsed": false
   }
  },
  {
   "cell_type": "code",
   "execution_count": 12,
   "outputs": [
    {
     "name": "stdout",
     "output_type": "stream",
     "text": [
      "Method       Datasets     Part         ACC                                       \n",
      "KMeans       Digit        test         0.7918753478\n"
     ]
    },
    {
     "data": {
      "text/plain": "0.7918753478018921"
     },
     "execution_count": 12,
     "metadata": {},
     "output_type": "execute_result"
    }
   ],
   "source": [
    "# 测试聚类准确率\n",
    "from Assess import Cluster_Accuracy\n",
    "CA = Cluster_Accuracy()\n",
    "CA.calculate_accuracy(target, target_pred, name_cluster)"
   ],
   "metadata": {
    "collapsed": false
   }
  },
  {
   "cell_type": "code",
   "execution_count": 13,
   "outputs": [],
   "source": [
    "# 测试联合排名框架\n",
    "from Assess import Q_matrix\n",
    "QM = Q_matrix(cross_time=1, batch_size=15)\n",
    "# QM.Statistic_Total(data, embedding, name_cluster)"
   ],
   "metadata": {
    "collapsed": false
   }
  },
  {
   "cell_type": "code",
   "execution_count": 14,
   "outputs": [
    {
     "name": "stdout",
     "output_type": "stream",
     "text": [
      "PCA算法在Digit数据集上的最优降维维度是：7\n",
      "\n",
      "PCA算法在Digit数据集上的次优降维维度是：6\n",
      "\n",
      "PCA算法在Digit数据集上的再优降维维度是：8\n",
      "\n",
      "PCA算法在Digit等数据集上的平均降维维度是：7\n",
      "\n"
     ]
    },
    {
     "data": {
      "text/plain": "<Figure size 640x480 with 0 Axes>"
     },
     "metadata": {},
     "output_type": "display_data"
    }
   ],
   "source": [
    "# 测试AIC\n",
    "import numpy as np\n",
    "from Assess import Akaike_Information_Criterion\n",
    "AI = Akaike_Information_Criterion(\n",
    "    filename='AIC-Digit',\n",
    "    func_name='PCA'\n",
    ")\n",
    "AI.max_dimension.append(63)\n",
    "AI.cut_dimension.append(63)\n",
    "AI.data_names.append(\"Digit\")\n",
    "odds = np.zeros((1, 63))\n",
    "for i in range(1, 64):\n",
    "    model = PCA(n_components=i)\n",
    "    model.fit(data_train)\n",
    "    embedding_train = model.transform(data_train)\n",
    "    embedding_test = model.transform(data_test)\n",
    "    KNN.KNN_predict_odds_splited(\n",
    "        embedding_train, embedding_test,\n",
    "        target_train, target_test, name=None\n",
    "    )\n",
    "    odds[0][i-1] = KNN.accuracy\n",
    "AI.odds=odds\n",
    "AI.AIC_Run()"
   ],
   "metadata": {
    "collapsed": false
   }
  }
 ],
 "metadata": {
  "kernelspec": {
   "display_name": "Python 3",
   "language": "python",
   "name": "python3"
  },
  "language_info": {
   "codemirror_mode": {
    "name": "ipython",
    "version": 2
   },
   "file_extension": ".py",
   "mimetype": "text/x-python",
   "name": "python",
   "nbconvert_exporter": "python",
   "pygments_lexer": "ipython2",
   "version": "2.7.6"
  }
 },
 "nbformat": 4,
 "nbformat_minor": 0
}
